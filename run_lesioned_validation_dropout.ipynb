{
  "nbformat": 4,
  "nbformat_minor": 0,
  "metadata": {
    "colab": {
      "provenance": [],
      "machine_shape": "hm"
    },
    "kernelspec": {
      "name": "python3",
      "display_name": "Python 3"
    },
    "language_info": {
      "name": "python"
    },
    "accelerator": "GPU",
    "gpuClass": "standard"
  },
  "cells": [
    {
      "cell_type": "code",
      "execution_count": null,
      "metadata": {
        "id": "Srz1weuo8gkv"
      },
      "outputs": [],
      "source": [
        "#getting dictionaries of classifier.1 - pretrained Alexnet\n",
        "!wget -nc https://www.dropbox.com/s/d3h6veqbxfcud5u/EarlyV_pretrained_alexnet_classifier1_feature_idxs.pickle?dl=0\n",
        "!wget -nc https://www.dropbox.com/s/szfm8068hmyy1lx/pOTC_pretrained_alexnet_classifier1_feature_idxs.pickle?dl=0\n",
        "!wget -nc https://www.dropbox.com/s/2ohi5ngsn6w8kch/aOTC_pretrained_alexnet_classifier1_feature_idxs.pickle?dl=0\n",
        "\n",
        "#getting dictionaries of fc6.0 - alexnetgn_1x\n",
        "!wget -nc https://www.dropbox.com/s/lk92j9eycivuryb/EarlyV_alexnetgn_1x_fc6.0_feature_idxs.pickle?dl=0\n",
        "!wget -nc https://www.dropbox.com/s/8ukby7ijywpfaeh/pOTC_alexnetgn_1x_fc6.0_feature_idxs.pickle?dl=0\n",
        "!wget -nc https://www.dropbox.com/s/cd67e67df3l8ge9/aOTC_alexnetgn_1x_fc6.0_feature_idxs.pickle?dl=0\n",
        "\n",
        "#random features\n",
        "!wget -nc https://www.dropbox.com/s/w1awqak2ud0tqvc/classifier1_random_feature_idxs.pickle?dl=0\n",
        "\n",
        "#pretrained alexnet - all layers\n",
        "!wget -nc https://www.dropbox.com/s/830zablobivnp21/pretrained_alexnet_feature_idxs.zip?dl=0\n",
        "!unzip pretrained_alexnet_feature_idxs.zip?dl=0\n",
        "\n",
        "#random layers of pretrained alexnet\n",
        "!wget -nc https://www.dropbox.com/s/nevwqchekmzxsvg/random_feature_idxs.zip?dl=0\n",
        "!unzip random_feature_idxs.zip?dl=0"
      ]
    },
    {
      "cell_type": "code",
      "source": [
        "import pickle\n",
        "\n",
        "def dict_save(dict, file_name):\n",
        "    with open(file_name + '.pickle', 'wb') as f:\n",
        "        pickle.dump(dict, f, pickle.HIGHEST_PROTOCOL)\n",
        "\n",
        "def dict_load(dict_name):\n",
        "    with open(dict_name , 'rb') as f:\n",
        "        return pickle.load(f)"
      ],
      "metadata": {
        "id": "XMEpPPk3-W6w"
      },
      "execution_count": null,
      "outputs": []
    },
    {
      "cell_type": "code",
      "source": [
        "#loading dicts\n",
        "'''\n",
        "EarlyV_pretrained_alexnet_classifier1_feature_idxs = dict_load('EarlyV_pretrained_alexnet_classifier1_feature_idxs.pickle?dl=0')\n",
        "pOTC_pretrained_alexnet_classifier1_feature_idxs = dict_load('pOTC_pretrained_alexnet_classifier1_feature_idxs.pickle?dl=0')\n",
        "aOTC_pretrained_alexnet_classifier1_feature_idxs = dict_load('aOTC_pretrained_alexnet_classifier1_feature_idxs.pickle?dl=0')\n",
        "\n",
        "EarlyV_alexnetgn_1x_fc6_0_feature_idxs = dict_load('EarlyV_alexnetgn_1x_fc6.0_feature_idxs.pickle?dl=0')\n",
        "pOTC_alexnetgn_1x_fc6_0_feature_idxs = dict_load('pOTC_alexnetgn_1x_fc6.0_feature_idxs.pickle?dl=0')\n",
        "aOTC_alexnetgn_1x_fc6_0_feature_idxs = dict_load('aOTC_alexnetgn_1x_fc6.0_feature_idxs.pickle?dl=0')\n",
        "\n",
        "random_feature_idxs = dict_load('classifier1_random_feature_idxs.pickle?dl=0')\n",
        "\n",
        "#keys are percentages - of highest features\n",
        "#higher percentage, more features included\n",
        "#random_feature_idxs.keys()\n",
        "'''"
      ],
      "metadata": {
        "id": "ukggngoF-YdR"
      },
      "execution_count": null,
      "outputs": []
    },
    {
      "cell_type": "code",
      "source": [
        "#check to see if feature idxs are different\n",
        "'''\n",
        "x = EarlyV_pretrained_alexnet_classifier1_feature_idxs[.05]\n",
        "y = pOTC_pretrained_alexnet_classifier1_feature_idxs[.05]\n",
        "z = aOTC_pretrained_alexnet_classifier1_feature_idxs[.05]\n",
        "\n",
        "print(len(x))\n",
        "print(len(y))\n",
        "print(len(z))\n",
        "\n",
        "common = []\n",
        "for i in y:\n",
        "  if i in z:\n",
        "    common.append(i)\n",
        "\n",
        "len(common)\n",
        "'''"
      ],
      "metadata": {
        "id": "VfUZo2TKLd7g"
      },
      "execution_count": null,
      "outputs": []
    },
    {
      "cell_type": "markdown",
      "source": [
        "Feature Editor"
      ],
      "metadata": {
        "id": "M0oNa1eiSdPR"
      }
    },
    {
      "cell_type": "code",
      "source": [
        "import torch\n",
        "import torch.nn as nn \n",
        "\n",
        "class FeatureEditor(nn.Module):\n",
        "    def __init__(self, model, layers, masks, return_features=False):\n",
        "        super().__init__()\n",
        "        self.model = model\n",
        "        self.layers = [layers] if isinstance(layers, str) else layers\n",
        "        self.masks = [masks] if not isinstance(layers, list) else masks\n",
        "        self.return_features = return_features\n",
        "        self._features = {layer: torch.empty(0) for layer in layers}\n",
        "        self.hooks = {}\n",
        "\n",
        "    def hook_layers(self):        \n",
        "        self.remove_hooks()\n",
        "        for layer_id,mask in zip(self.layers, self.masks):\n",
        "            layer = dict([*self.model.named_modules()])[layer_id]\n",
        "            self.hooks[layer_id] = layer.register_forward_hook(self.edit_outputs_hook(layer_id,mask))\n",
        "    \n",
        "    def remove_hooks(self):\n",
        "        for layer_id in self.layers:\n",
        "            self._features[layer_id] = torch.empty(0)\n",
        "            if layer_id in self.hooks:\n",
        "                self.hooks[layer_id].remove()\n",
        "                del self.hooks[layer_id]\n",
        "    \n",
        "    def __enter__(self, *args): \n",
        "        self.hook_layers()\n",
        "        return self\n",
        "    \n",
        "    def __exit__(self, *args): \n",
        "        self.remove_hooks()\n",
        "            \n",
        "    def edit_outputs_hook(self, layer_id, mask):\n",
        "        def fn(_, __, output):\n",
        "            modified_output = output * mask\n",
        "            self._features[layer_id] = modified_output\n",
        "            #changed this below\n",
        "            modified_output.to(device)\n",
        "            #changed this above\n",
        "            return modified_output\n",
        "        return fn\n",
        "\n",
        "    def forward(self, x):\n",
        "        out = self.model(x)\n",
        "        if self.return_features:\n",
        "            return self._features\n",
        "        else:\n",
        "            return out\n",
        "        \n",
        "def generate_mask(shape, units):\n",
        "    mask = torch.ones(shape).flatten()\n",
        "    mask[units] = 0\n",
        "    return mask.reshape(shape).unsqueeze(0)\n",
        "\n",
        "\n",
        "import torch\n",
        "import torch.nn as nn\n",
        "from torchvision import models\n",
        "from IPython.core.debugger import set_trace\n",
        "\n",
        "class FeatureExtractor(nn.Module):\n",
        "    def __init__(self, model, layers, detach=True, clone=True, device='cpu'):\n",
        "        super().__init__()\n",
        "        self.model = model\n",
        "        self.layers = [layers] if isinstance(layers, str) else layers\n",
        "        self.detach = detach\n",
        "        self.clone = clone\n",
        "        self.device = device\n",
        "        self._features = {layer: torch.empty(0) for layer in layers}        \n",
        "        self.hooks = {}\n",
        "        \n",
        "    def hook_layers(self):        \n",
        "        self.remove_hooks()\n",
        "        for layer_id in self.layers:\n",
        "            layer = dict([*self.model.named_modules()])[layer_id]\n",
        "            self.hooks[layer_id] = layer.register_forward_hook(self.save_outputs_hook(layer_id))\n",
        "    \n",
        "    def remove_hooks(self):\n",
        "        for layer_id in self.layers:\n",
        "            self._features[layer_id] = torch.empty(0)\n",
        "            if layer_id in self.hooks:\n",
        "                self.hooks[layer_id].remove()\n",
        "                del self.hooks[layer_id]\n",
        "    \n",
        "    def __enter__(self, *args): \n",
        "        self.hook_layers()\n",
        "        return self\n",
        "    \n",
        "    def __exit__(self, *args): \n",
        "        self.remove_hooks()\n",
        "        \n",
        "    def save_outputs_hook(self, layer_id):\n",
        "        def fn(_, __, output):\n",
        "            if self.detach: output = output.detach()\n",
        "            if self.clone: output = output.clone()\n",
        "            if self.device: output = output.to(self.device)\n",
        "            self._features[layer_id] = output\n",
        "        return fn\n",
        "\n",
        "    def forward(self, x):\n",
        "        _ = self.model(x)\n",
        "        return self._features\n",
        "    \n",
        "def get_layers(model, parent_name='', layer_info=[]):\n",
        "    for module_name, module in model.named_children():\n",
        "        layer_name = parent_name + '.' + module_name\n",
        "        if len(list(module.named_children())):\n",
        "            layer_info = get_layers(module, layer_name, layer_info=layer_info)\n",
        "        else:\n",
        "            layer_info.append(layer_name.strip('.'))\n",
        "    \n",
        "    return layer_info\n",
        "\n",
        "def get_layer(m, layers):\n",
        "    layer = layers.pop(0)\n",
        "    m = getattr(m, layer)\n",
        "    if len(layers) > 0:\n",
        "        return get_layer(m, layers)\n",
        "    return m\n",
        "\n",
        "def get_layer_type(model, layer_name):\n",
        "    m = get_layer(model, layer_name.split(\".\"))\n",
        "    return m.__class__.__name__\n",
        "            \n",
        "def convert_relu_layers(parent):\n",
        "    for child_name, child in parent.named_children():\n",
        "        if isinstance(child, nn.ReLU) and child.inplace==True:\n",
        "            setattr(parent, child_name, nn.ReLU(inplace=False))\n",
        "        elif len(list(child.children())) > 0:\n",
        "            convert_relu_layers(child)"
      ],
      "metadata": {
        "id": "52Q-rK2-MEAt"
      },
      "execution_count": null,
      "outputs": []
    },
    {
      "cell_type": "markdown",
      "source": [
        "Validation"
      ],
      "metadata": {
        "id": "RCcUNZD1Srzi"
      }
    },
    {
      "cell_type": "code",
      "source": [
        "#downloading validation dataser\n",
        "!wget -c https://www.dropbox.com/s/6vu07wtshpqpcr2/val.tar.gz\n",
        "!tar -xf val.tar.gz\n",
        "!rm val.tar.gz"
      ],
      "metadata": {
        "id": "ql4fpiLjSsOe"
      },
      "execution_count": null,
      "outputs": []
    },
    {
      "cell_type": "code",
      "source": [
        "import torch \n",
        "from enum import Enum\n",
        "from fastprogress.fastprogress import progress_bar \n",
        "\n",
        "device = 'cuda' if torch.cuda.is_available() else 'cpu'\n",
        "\n",
        "@torch.no_grad()\n",
        "def validate(model, val_loader):\n",
        "  num_images = len(val_loader.dataset)\n",
        "  assert num_images==50000, f\"Expected 50K images, got {num_images}\"  \n",
        "  criterion = torch.nn.CrossEntropyLoss()\n",
        "  model.eval()\n",
        "  losses = AverageMeter('Loss', ':.4e', Summary.NONE)\n",
        "  top1 = AverageMeter('Acc@1', ':6.2f', Summary.AVERAGE)\n",
        "  top5 = AverageMeter('Acc@5', ':6.2f', Summary.AVERAGE)\n",
        "\n",
        "  for i, (images, target) in enumerate(progress_bar(val_loader)):\n",
        "      images = images.cuda(device, non_blocking=True)\n",
        "      target = target.cuda(device, non_blocking=True)\n",
        "\n",
        "      # compute output\n",
        "      output = model(images)\n",
        "      loss = criterion(output, target)\n",
        "\n",
        "      # measure accuracy and record loss\n",
        "      acc1, acc5 = accuracy(output, target, topk=(1, 5))\n",
        "      losses.update(loss.item(), images.size(0))\n",
        "      top1.update(acc1[0], images.size(0))\n",
        "      top5.update(acc5[0], images.size(0))\n",
        "\n",
        "  return top1.avg.item(), top5.avg.item(), losses.avg\n",
        "\n",
        "class Summary(Enum):\n",
        "    NONE = 0\n",
        "    AVERAGE = 1\n",
        "    SUM = 2\n",
        "    COUNT = 3\n",
        "\n",
        "class AverageMeter(object):\n",
        "    def __init__(self, name, fmt=':f', summary_type=Summary.AVERAGE):\n",
        "        self.name = name\n",
        "        self.fmt = fmt\n",
        "        self.summary_type = summary_type\n",
        "        self.reset()\n",
        "\n",
        "    def reset(self):\n",
        "        self.val = 0\n",
        "        self.avg = 0\n",
        "        self.sum = 0\n",
        "        self.count = 0\n",
        "\n",
        "    def update(self, val, n=1):\n",
        "        self.val = val\n",
        "        self.sum += val * n\n",
        "        self.count += n\n",
        "        self.avg = self.sum / self.count\n",
        "\n",
        "    def all_reduce(self):\n",
        "        total = torch.FloatTensor([self.sum, self.count])\n",
        "        dist.all_reduce(total, dist.ReduceOp.SUM, async_op=False)\n",
        "        self.sum, self.count = total.tolist()\n",
        "        self.avg = self.sum / self.count\n",
        "\n",
        "    def __str__(self):\n",
        "        fmtstr = '{name} {val' + self.fmt + '} ({avg' + self.fmt + '})'\n",
        "        return fmtstr.format(**self.__dict__)\n",
        "    \n",
        "    def summary(self):\n",
        "        fmtstr = ''\n",
        "        if self.summary_type is Summary.NONE:\n",
        "            fmtstr = ''\n",
        "        elif self.summary_type is Summary.AVERAGE:\n",
        "            fmtstr = '{name} {avg:.3f}'\n",
        "        elif self.summary_type is Summary.SUM:\n",
        "            fmtstr = '{name} {sum:.3f}'\n",
        "        elif self.summary_type is Summary.COUNT:\n",
        "            fmtstr = '{name} {count:.3f}'\n",
        "        else:\n",
        "            raise ValueError('invalid summary type %r' % self.summary_type)\n",
        "        \n",
        "        return fmtstr.format(**self.__dict__)\n",
        "\n",
        "def accuracy(output, target, topk=(1,)):\n",
        "    with torch.no_grad():\n",
        "        maxk = max(topk)\n",
        "        batch_size = target.size(0)\n",
        "\n",
        "        _, pred = output.topk(maxk, 1, True, True)\n",
        "        pred = pred.t()\n",
        "        correct = pred.eq(target.view(1, -1).expand_as(pred))\n",
        "\n",
        "        res = []\n",
        "        for k in topk:\n",
        "            correct_k = correct[:k].reshape(-1).float().sum(0, keepdim=True)\n",
        "            res.append(correct_k.mul_(100.0 / batch_size))\n",
        "        return res"
      ],
      "metadata": {
        "id": "eLMCKZxaSyxH"
      },
      "execution_count": null,
      "outputs": []
    },
    {
      "cell_type": "code",
      "source": [
        "from torchvision import models, datasets, transforms \n",
        "\n",
        "transform = transforms.Compose([\n",
        "  transforms.Resize(256),\n",
        "  transforms.CenterCrop(224),\n",
        "  transforms.ToTensor(),\n",
        "  transforms.Normalize(mean=[0.485, 0.456, 0.406],\n",
        "                       std=[0.229, 0.224, 0.225])\n",
        "])\n",
        "\n",
        "\n",
        "image_folder = './val'\n",
        "dataset = datasets.ImageFolder(image_folder, transform=transform)\n",
        "val_loader = torch.utils.data.DataLoader(dataset, \n",
        "                                         batch_size=256, \n",
        "                                         shuffle=False, \n",
        "                                         num_workers=2, \n",
        "                                         pin_memory=True)\n",
        "dataset"
      ],
      "metadata": {
        "id": "yOX6yXTmS7N_",
        "colab": {
          "base_uri": "https://localhost:8080/"
        },
        "outputId": "9b3cceb0-ab82-40ff-b0d1-79ad1d8408b1"
      },
      "execution_count": null,
      "outputs": [
        {
          "output_type": "execute_result",
          "data": {
            "text/plain": [
              "Dataset ImageFolder\n",
              "    Number of datapoints: 50000\n",
              "    Root location: ./val\n",
              "    StandardTransform\n",
              "Transform: Compose(\n",
              "               Resize(size=256, interpolation=bilinear, max_size=None, antialias=None)\n",
              "               CenterCrop(size=(224, 224))\n",
              "               ToTensor()\n",
              "               Normalize(mean=[0.485, 0.456, 0.406], std=[0.229, 0.224, 0.225])\n",
              "           )"
            ]
          },
          "metadata": {},
          "execution_count": 8
        }
      ]
    },
    {
      "cell_type": "markdown",
      "source": [
        "Defining models used"
      ],
      "metadata": {
        "id": "CxYkD47ATwel"
      }
    },
    {
      "cell_type": "code",
      "source": [
        "model_1 = models.alexnet(pretrained=True)\n",
        "model_1.to(device)\n"
      ],
      "metadata": {
        "id": "w6_ggNctTnBG"
      },
      "execution_count": null,
      "outputs": []
    },
    {
      "cell_type": "markdown",
      "source": [
        "Running Validation"
      ],
      "metadata": {
        "id": "_WAwMt9AVNs3"
      }
    },
    {
      "cell_type": "code",
      "source": [
        "import numpy as np\n",
        "from google.colab import files #for downloading files to downloads\n",
        "#percentages to be used - ie: lesion this percentage of features\n",
        "percentages = np.array([.05, .10, .15, .30, .50, .70, .90])\n",
        "layer_names = get_layers(model_1)\n",
        "layer_names"
      ],
      "metadata": {
        "id": "fkS8jaFnVNNY"
      },
      "execution_count": null,
      "outputs": []
    },
    {
      "cell_type": "markdown",
      "source": [
        "All Layers"
      ],
      "metadata": {
        "id": "B09h87vKLgvA"
      }
    },
    {
      "cell_type": "code",
      "source": [
        "#getting output map shapes\n",
        "output_map_shapes = {}\n",
        "for layer_name in layer_names:\n",
        "  layer_name_string = layer_name.replace(\".\", \"\")\n",
        "  feature_idxs = dict_load(\"pretrained_alexnet_feature_idxs/EarlyV_pretrained_alexnet_\"+layer_name_string+\"_feature_idxs.pickle\")\n",
        "  with FeatureExtractor(model_1, [layer_name]) as extractor:\n",
        "    extractor.to(device)\n",
        "    dummy_images = torch.rand(10,3,224,224)\n",
        "    dummy_images = dummy_images.to(device)\n",
        "    output = extractor(dummy_images)\n",
        "    with torch.no_grad():\n",
        "      features = output[layer_name]\n",
        "  output_map_shape = features.shape[1:]\n",
        "  output_map_shapes[layer_name] = output_map_shape    "
      ],
      "metadata": {
        "id": "t6tDYeJJPa0C"
      },
      "execution_count": null,
      "outputs": []
    },
    {
      "cell_type": "code",
      "source": [
        "#getting mask units\n",
        "brain_regions = ['EarlyV', 'pOTC', 'aOTC']\n",
        "mask_units_dict = {}\n",
        "for region in brain_regions:\n",
        "  print(\"region:\", region)\n",
        "  for layer_name in layer_names:\n",
        "    for percentage in percentages:\n",
        "      print(percentage)\n",
        "      layer_name_string = layer_name.replace(\".\", \"\")\n",
        "      mask_units_dict[region+\"_\"+layer_name+\"_\"+str(percentage)] = dict_load(\"pretrained_alexnet_feature_idxs/\"+region+\"_pretrained_alexnet_\"+layer_name_string+\"_feature_idxs.pickle\")[percentage]\n",
        "mask_units_dict.keys()"
      ],
      "metadata": {
        "id": "DtHb0ceZd43b"
      },
      "execution_count": null,
      "outputs": []
    },
    {
      "cell_type": "code",
      "source": [
        "#getting mask units for random\n",
        "region = 'random'\n",
        "for layer_name in layer_names:\n",
        "  for percentage in percentages:\n",
        "    print(percentage)\n",
        "    layer_name_string = layer_name.replace(\".\", \"\")\n",
        "    mask_units_dict[region+\"_\"+layer_name+\"_\"+str(percentage)] = dict_load(\"random_feature_idxs/\"+layer_name_string+\"_random_feature_idxs.pickle\")[percentage]\n",
        "mask_units_dict.keys()"
      ],
      "metadata": {
        "id": "1FfO0e_rQGsi"
      },
      "execution_count": null,
      "outputs": []
    },
    {
      "cell_type": "code",
      "source": [
        "#generating and saving masks\n",
        "masks = {}\n",
        "brain_regions = ['EarlyV', 'pOTC', 'aOTC', 'random']\n",
        "for region in brain_regions:\n",
        "  for layer_name in layer_names:\n",
        "    for percentage in percentages:\n",
        "      mask_units = mask_units_dict[region+\"_\"+layer_name+\"_\"+str(percentage)]\n",
        "      output_map_shape = output_map_shapes[layer_name]\n",
        "      mask = generate_mask(output_map_shape, mask_units)\n",
        "      masks[region+\"_\"+layer_name+\"_\"+str(percentage)] = mask\n",
        "masks.keys()"
      ],
      "metadata": {
        "id": "0tvnwujQvKpP"
      },
      "execution_count": null,
      "outputs": []
    },
    {
      "cell_type": "markdown",
      "source": [
        "# test multi-layer lesioning"
      ],
      "metadata": {
        "id": "BncXMBTBXx2l"
      }
    },
    {
      "cell_type": "code",
      "source": [
        "layer_names[0:1], percentages"
      ],
      "metadata": {
        "colab": {
          "base_uri": "https://localhost:8080/"
        },
        "id": "_roDzpWdYXCZ",
        "outputId": "2c41ded5-3f78-4faa-97c0-bea933381d39"
      },
      "execution_count": null,
      "outputs": [
        {
          "output_type": "execute_result",
          "data": {
            "text/plain": [
              "(['features.0'], array([0.05, 0.1 , 0.15, 0.3 , 0.5 , 0.7 , 0.9 ]))"
            ]
          },
          "metadata": {},
          "execution_count": 16
        }
      ]
    },
    {
      "cell_type": "code",
      "source": [
        "# first a single layer\n",
        "brain_region = 'EarlyV'\n",
        "percentage = 0.05\n",
        "test_masks = [\n",
        "  masks[brain_region+\"_\"+layer_names[0]+\"_\"+str(percentage)].to(device)\n",
        "]\n",
        "test_layers = layer_names[0:1] # <- indexing with range 0:1 ensures we get a \"list\" as ouput, in this case a list of only one layer_name\n",
        "\n",
        "with FeatureEditor(model_1, test_layers, test_masks, return_features=False) as editor:\n",
        "  dummy_images = torch.rand(10,3,224,224).to(device)\n",
        "  output = editor(dummy_images)\n",
        "output.shape"
      ],
      "metadata": {
        "colab": {
          "base_uri": "https://localhost:8080/"
        },
        "id": "lT3NBFM7X5_3",
        "outputId": "7f7dcbff-d862-4728-a7f1-78f012c8f7cb"
      },
      "execution_count": null,
      "outputs": [
        {
          "output_type": "execute_result",
          "data": {
            "text/plain": [
              "torch.Size([10, 1000])"
            ]
          },
          "metadata": {},
          "execution_count": 23
        }
      ]
    },
    {
      "cell_type": "code",
      "source": [
        "# now multiple layers\n",
        "brain_region = 'EarlyV'\n",
        "percentage = 0.05\n",
        "test_masks = [\n",
        "  masks[brain_region+\"_\"+layer_names[0]+\"_\"+str(percentage)].to(device),\n",
        "  masks[brain_region+\"_\"+layer_names[1]+\"_\"+str(percentage)].to(device)\n",
        "]\n",
        "test_layers = layer_names[0:2] # python excludes the last item in a range; so this gives us layers 0,1\n",
        "\n",
        "with FeatureEditor(model_1, test_layers, test_masks, return_features=False) as editor:\n",
        "  dummy_images = torch.rand(10,3,224,224).to(device)\n",
        "  output = editor(dummy_images)\n",
        "output.shape"
      ],
      "metadata": {
        "colab": {
          "base_uri": "https://localhost:8080/"
        },
        "id": "VEV7hPbKZJfN",
        "outputId": "10366353-5ba9-4f37-9082-095d7635bf1a"
      },
      "execution_count": null,
      "outputs": [
        {
          "output_type": "execute_result",
          "data": {
            "text/plain": [
              "torch.Size([10, 1000])"
            ]
          },
          "metadata": {},
          "execution_count": 24
        }
      ]
    },
    {
      "cell_type": "markdown",
      "source": [
        "# Use list comprehension to get list of masks\n",
        "\n"
      ],
      "metadata": {
        "id": "X3VS2XzjZa1m"
      }
    },
    {
      "cell_type": "code",
      "source": [
        "layer_masks = [masks[f\"{brain_region}_{layer_name}_{percentage}\"].to(device) for layer_name in layer_names]\n",
        "len(layer_masks)"
      ],
      "metadata": {
        "colab": {
          "base_uri": "https://localhost:8080/"
        },
        "id": "AFh2Np1NZnAe",
        "outputId": "8ee6fbf8-d7dd-4244-fd94-9aab2d99cb7a"
      },
      "execution_count": null,
      "outputs": [
        {
          "output_type": "execute_result",
          "data": {
            "text/plain": [
              "21"
            ]
          },
          "metadata": {},
          "execution_count": 25
        }
      ]
    },
    {
      "cell_type": "markdown",
      "source": [
        "#All Layer Lesioning"
      ],
      "metadata": {
        "id": "0Vc1GRtO8Zxt"
      }
    },
    {
      "cell_type": "code",
      "source": [
        "#EarlyV all layers lesioning\n",
        "brain_region = 'EarlyV'\n",
        "\n",
        "#what the scores are going to be stored in\n",
        "top1s = np.zeros(percentages.size)\n",
        "top5s = np.zeros(percentages.size)\n",
        "losses = np.zeros(percentages.size)\n",
        "\n",
        "for i in range(percentages.size):\n",
        "  percentage = percentages[i]\n",
        "\n",
        "  layer_masks = [masks[f\"{brain_region}_{layer_name}_{percentage}\"].to(device) for layer_name in layer_names]\n",
        "\n",
        "  with FeatureEditor(model_1, layer_names, layer_masks, return_features=False) as editor:\n",
        "    top1, top5, loss = validate(editor, val_loader)\n",
        "\n",
        "  #appends accuracies and losses to list\n",
        "  top1s[i] = top1\n",
        "  top5s[i] = top5\n",
        "  losses[i] = loss\n",
        "  \n",
        "EarlyV_all_layers = {}\n",
        "EarlyV_all_layers['percentages'] = percentages\n",
        "EarlyV_all_layers['top1s'] = top1s\n",
        "EarlyV_all_layers['top5s'] = top5s\n",
        "EarlyV_all_layers['losses'] = losses\n",
        "\n",
        "dict_save(EarlyV_all_layers, brain_region+\"_all_layers_accuracies\")\n",
        "#downloads to downloads\n",
        "files.download(brain_region+\"_all_layers_accuracies.pickle\")"
      ],
      "metadata": {
        "colab": {
          "base_uri": "https://localhost:8080/",
          "height": 157
        },
        "id": "hu8409Nn8Me7",
        "outputId": "95f43dda-9768-4004-b2a6-a9ca7632e719"
      },
      "execution_count": null,
      "outputs": [
        {
          "output_type": "display_data",
          "data": {
            "text/plain": [
              "<IPython.core.display.HTML object>"
            ],
            "text/html": [
              "\n",
              "<style>\n",
              "    /* Turns off some styling */\n",
              "    progress {\n",
              "        /* gets rid of default border in Firefox and Opera. */\n",
              "        border: none;\n",
              "        /* Needs to be in here for Safari polyfill so background images work as expected. */\n",
              "        background-size: auto;\n",
              "    }\n",
              "    progress:not([value]), progress:not([value])::-webkit-progress-bar {\n",
              "        background: repeating-linear-gradient(45deg, #7e7e7e, #7e7e7e 10px, #5c5c5c 10px, #5c5c5c 20px);\n",
              "    }\n",
              "    .progress-bar-interrupted, .progress-bar-interrupted::-webkit-progress-bar {\n",
              "        background: #F44336;\n",
              "    }\n",
              "</style>\n"
            ]
          },
          "metadata": {}
        },
        {
          "output_type": "display_data",
          "data": {
            "text/plain": [
              "<IPython.core.display.HTML object>"
            ],
            "text/html": [
              "\n",
              "    <div>\n",
              "      <progress value='196' class='' max='196' style='width:300px; height:20px; vertical-align: middle;'></progress>\n",
              "      100.00% [196/196 02:22&lt;00:00]\n",
              "    </div>\n",
              "    "
            ]
          },
          "metadata": {}
        },
        {
          "output_type": "display_data",
          "data": {
            "text/plain": [
              "<IPython.core.display.HTML object>"
            ],
            "text/html": [
              "\n",
              "<style>\n",
              "    /* Turns off some styling */\n",
              "    progress {\n",
              "        /* gets rid of default border in Firefox and Opera. */\n",
              "        border: none;\n",
              "        /* Needs to be in here for Safari polyfill so background images work as expected. */\n",
              "        background-size: auto;\n",
              "    }\n",
              "    progress:not([value]), progress:not([value])::-webkit-progress-bar {\n",
              "        background: repeating-linear-gradient(45deg, #7e7e7e, #7e7e7e 10px, #5c5c5c 10px, #5c5c5c 20px);\n",
              "    }\n",
              "    .progress-bar-interrupted, .progress-bar-interrupted::-webkit-progress-bar {\n",
              "        background: #F44336;\n",
              "    }\n",
              "</style>\n"
            ]
          },
          "metadata": {}
        },
        {
          "output_type": "display_data",
          "data": {
            "text/plain": [
              "<IPython.core.display.HTML object>"
            ],
            "text/html": [
              "\n",
              "    <div>\n",
              "      <progress value='196' class='' max='196' style='width:300px; height:20px; vertical-align: middle;'></progress>\n",
              "      100.00% [196/196 02:10&lt;00:00]\n",
              "    </div>\n",
              "    "
            ]
          },
          "metadata": {}
        },
        {
          "output_type": "display_data",
          "data": {
            "text/plain": [
              "<IPython.core.display.HTML object>"
            ],
            "text/html": [
              "\n",
              "<style>\n",
              "    /* Turns off some styling */\n",
              "    progress {\n",
              "        /* gets rid of default border in Firefox and Opera. */\n",
              "        border: none;\n",
              "        /* Needs to be in here for Safari polyfill so background images work as expected. */\n",
              "        background-size: auto;\n",
              "    }\n",
              "    progress:not([value]), progress:not([value])::-webkit-progress-bar {\n",
              "        background: repeating-linear-gradient(45deg, #7e7e7e, #7e7e7e 10px, #5c5c5c 10px, #5c5c5c 20px);\n",
              "    }\n",
              "    .progress-bar-interrupted, .progress-bar-interrupted::-webkit-progress-bar {\n",
              "        background: #F44336;\n",
              "    }\n",
              "</style>\n"
            ]
          },
          "metadata": {}
        },
        {
          "output_type": "display_data",
          "data": {
            "text/plain": [
              "<IPython.core.display.HTML object>"
            ],
            "text/html": [
              "\n",
              "    <div>\n",
              "      <progress value='196' class='' max='196' style='width:300px; height:20px; vertical-align: middle;'></progress>\n",
              "      100.00% [196/196 02:26&lt;00:00]\n",
              "    </div>\n",
              "    "
            ]
          },
          "metadata": {}
        },
        {
          "output_type": "display_data",
          "data": {
            "text/plain": [
              "<IPython.core.display.HTML object>"
            ],
            "text/html": [
              "\n",
              "<style>\n",
              "    /* Turns off some styling */\n",
              "    progress {\n",
              "        /* gets rid of default border in Firefox and Opera. */\n",
              "        border: none;\n",
              "        /* Needs to be in here for Safari polyfill so background images work as expected. */\n",
              "        background-size: auto;\n",
              "    }\n",
              "    progress:not([value]), progress:not([value])::-webkit-progress-bar {\n",
              "        background: repeating-linear-gradient(45deg, #7e7e7e, #7e7e7e 10px, #5c5c5c 10px, #5c5c5c 20px);\n",
              "    }\n",
              "    .progress-bar-interrupted, .progress-bar-interrupted::-webkit-progress-bar {\n",
              "        background: #F44336;\n",
              "    }\n",
              "</style>\n"
            ]
          },
          "metadata": {}
        },
        {
          "output_type": "display_data",
          "data": {
            "text/plain": [
              "<IPython.core.display.HTML object>"
            ],
            "text/html": [
              "\n",
              "    <div>\n",
              "      <progress value='196' class='' max='196' style='width:300px; height:20px; vertical-align: middle;'></progress>\n",
              "      100.00% [196/196 02:12&lt;00:00]\n",
              "    </div>\n",
              "    "
            ]
          },
          "metadata": {}
        },
        {
          "output_type": "display_data",
          "data": {
            "text/plain": [
              "<IPython.core.display.HTML object>"
            ],
            "text/html": [
              "\n",
              "<style>\n",
              "    /* Turns off some styling */\n",
              "    progress {\n",
              "        /* gets rid of default border in Firefox and Opera. */\n",
              "        border: none;\n",
              "        /* Needs to be in here for Safari polyfill so background images work as expected. */\n",
              "        background-size: auto;\n",
              "    }\n",
              "    progress:not([value]), progress:not([value])::-webkit-progress-bar {\n",
              "        background: repeating-linear-gradient(45deg, #7e7e7e, #7e7e7e 10px, #5c5c5c 10px, #5c5c5c 20px);\n",
              "    }\n",
              "    .progress-bar-interrupted, .progress-bar-interrupted::-webkit-progress-bar {\n",
              "        background: #F44336;\n",
              "    }\n",
              "</style>\n"
            ]
          },
          "metadata": {}
        },
        {
          "output_type": "display_data",
          "data": {
            "text/plain": [
              "<IPython.core.display.HTML object>"
            ],
            "text/html": [
              "\n",
              "    <div>\n",
              "      <progress value='196' class='' max='196' style='width:300px; height:20px; vertical-align: middle;'></progress>\n",
              "      100.00% [196/196 02:10&lt;00:00]\n",
              "    </div>\n",
              "    "
            ]
          },
          "metadata": {}
        },
        {
          "output_type": "display_data",
          "data": {
            "text/plain": [
              "<IPython.core.display.HTML object>"
            ],
            "text/html": [
              "\n",
              "<style>\n",
              "    /* Turns off some styling */\n",
              "    progress {\n",
              "        /* gets rid of default border in Firefox and Opera. */\n",
              "        border: none;\n",
              "        /* Needs to be in here for Safari polyfill so background images work as expected. */\n",
              "        background-size: auto;\n",
              "    }\n",
              "    progress:not([value]), progress:not([value])::-webkit-progress-bar {\n",
              "        background: repeating-linear-gradient(45deg, #7e7e7e, #7e7e7e 10px, #5c5c5c 10px, #5c5c5c 20px);\n",
              "    }\n",
              "    .progress-bar-interrupted, .progress-bar-interrupted::-webkit-progress-bar {\n",
              "        background: #F44336;\n",
              "    }\n",
              "</style>\n"
            ]
          },
          "metadata": {}
        },
        {
          "output_type": "display_data",
          "data": {
            "text/plain": [
              "<IPython.core.display.HTML object>"
            ],
            "text/html": [
              "\n",
              "    <div>\n",
              "      <progress value='196' class='' max='196' style='width:300px; height:20px; vertical-align: middle;'></progress>\n",
              "      100.00% [196/196 02:09&lt;00:00]\n",
              "    </div>\n",
              "    "
            ]
          },
          "metadata": {}
        },
        {
          "output_type": "display_data",
          "data": {
            "text/plain": [
              "<IPython.core.display.HTML object>"
            ],
            "text/html": [
              "\n",
              "<style>\n",
              "    /* Turns off some styling */\n",
              "    progress {\n",
              "        /* gets rid of default border in Firefox and Opera. */\n",
              "        border: none;\n",
              "        /* Needs to be in here for Safari polyfill so background images work as expected. */\n",
              "        background-size: auto;\n",
              "    }\n",
              "    progress:not([value]), progress:not([value])::-webkit-progress-bar {\n",
              "        background: repeating-linear-gradient(45deg, #7e7e7e, #7e7e7e 10px, #5c5c5c 10px, #5c5c5c 20px);\n",
              "    }\n",
              "    .progress-bar-interrupted, .progress-bar-interrupted::-webkit-progress-bar {\n",
              "        background: #F44336;\n",
              "    }\n",
              "</style>\n"
            ]
          },
          "metadata": {}
        },
        {
          "output_type": "display_data",
          "data": {
            "text/plain": [
              "<IPython.core.display.HTML object>"
            ],
            "text/html": [
              "\n",
              "    <div>\n",
              "      <progress value='196' class='' max='196' style='width:300px; height:20px; vertical-align: middle;'></progress>\n",
              "      100.00% [196/196 02:09&lt;00:00]\n",
              "    </div>\n",
              "    "
            ]
          },
          "metadata": {}
        },
        {
          "output_type": "display_data",
          "data": {
            "text/plain": [
              "<IPython.core.display.Javascript object>"
            ],
            "application/javascript": [
              "\n",
              "    async function download(id, filename, size) {\n",
              "      if (!google.colab.kernel.accessAllowed) {\n",
              "        return;\n",
              "      }\n",
              "      const div = document.createElement('div');\n",
              "      const label = document.createElement('label');\n",
              "      label.textContent = `Downloading \"${filename}\": `;\n",
              "      div.appendChild(label);\n",
              "      const progress = document.createElement('progress');\n",
              "      progress.max = size;\n",
              "      div.appendChild(progress);\n",
              "      document.body.appendChild(div);\n",
              "\n",
              "      const buffers = [];\n",
              "      let downloaded = 0;\n",
              "\n",
              "      const channel = await google.colab.kernel.comms.open(id);\n",
              "      // Send a message to notify the kernel that we're ready.\n",
              "      channel.send({})\n",
              "\n",
              "      for await (const message of channel.messages) {\n",
              "        // Send a message to notify the kernel that we're ready.\n",
              "        channel.send({})\n",
              "        if (message.buffers) {\n",
              "          for (const buffer of message.buffers) {\n",
              "            buffers.push(buffer);\n",
              "            downloaded += buffer.byteLength;\n",
              "            progress.value = downloaded;\n",
              "          }\n",
              "        }\n",
              "      }\n",
              "      const blob = new Blob(buffers, {type: 'application/binary'});\n",
              "      const a = document.createElement('a');\n",
              "      a.href = window.URL.createObjectURL(blob);\n",
              "      a.download = filename;\n",
              "      div.appendChild(a);\n",
              "      a.click();\n",
              "      div.remove();\n",
              "    }\n",
              "  "
            ]
          },
          "metadata": {}
        },
        {
          "output_type": "display_data",
          "data": {
            "text/plain": [
              "<IPython.core.display.Javascript object>"
            ],
            "application/javascript": [
              "download(\"download_855a588c-eac1-4945-ae23-3b3ec7f916bd\", \"EarlyV_all_layers_accuracies.pickle\", 504)"
            ]
          },
          "metadata": {}
        }
      ]
    },
    {
      "cell_type": "code",
      "source": [
        "#pOTC all layers lesioning\n",
        "brain_region = 'pOTC'\n",
        "\n",
        "#what the scores are going to be stored in\n",
        "top1s = np.zeros(percentages.size)\n",
        "top5s = np.zeros(percentages.size)\n",
        "losses = np.zeros(percentages.size)\n",
        "\n",
        "for i in range(percentages.size):\n",
        "  percentage = percentages[i]\n",
        "\n",
        "  layer_masks = [masks[f\"{brain_region}_{layer_name}_{percentage}\"].to(device) for layer_name in layer_names]\n",
        "\n",
        "  with FeatureEditor(model_1, layer_names, layer_masks, return_features=False) as editor:\n",
        "    top1, top5, loss = validate(editor, val_loader)\n",
        "\n",
        "  #appends accuracies and losses to list\n",
        "  top1s[i] = top1\n",
        "  top5s[i] = top5\n",
        "  losses[i] = loss\n",
        "  \n",
        "pOTC_all_layers = {}\n",
        "pOTC_all_layers['percentages'] = percentages\n",
        "pOTC_all_layers['top1s'] = top1s\n",
        "pOTC_all_layers['top5s'] = top5s\n",
        "pOTC_all_layers['losses'] = losses\n",
        "\n",
        "dict_save(pOTC_all_layers, brain_region+\"_all_layers_accuracies\")\n",
        "#downloads to downloads\n",
        "files.download(brain_region+\"_all_layers_accuracies.pickle\")"
      ],
      "metadata": {
        "id": "1ucwyNybAC_w",
        "colab": {
          "base_uri": "https://localhost:8080/",
          "height": 157
        },
        "outputId": "e219d68c-64f1-4403-f981-530f762506f1"
      },
      "execution_count": null,
      "outputs": [
        {
          "output_type": "display_data",
          "data": {
            "text/plain": [
              "<IPython.core.display.HTML object>"
            ],
            "text/html": [
              "\n",
              "<style>\n",
              "    /* Turns off some styling */\n",
              "    progress {\n",
              "        /* gets rid of default border in Firefox and Opera. */\n",
              "        border: none;\n",
              "        /* Needs to be in here for Safari polyfill so background images work as expected. */\n",
              "        background-size: auto;\n",
              "    }\n",
              "    progress:not([value]), progress:not([value])::-webkit-progress-bar {\n",
              "        background: repeating-linear-gradient(45deg, #7e7e7e, #7e7e7e 10px, #5c5c5c 10px, #5c5c5c 20px);\n",
              "    }\n",
              "    .progress-bar-interrupted, .progress-bar-interrupted::-webkit-progress-bar {\n",
              "        background: #F44336;\n",
              "    }\n",
              "</style>\n"
            ]
          },
          "metadata": {}
        },
        {
          "output_type": "display_data",
          "data": {
            "text/plain": [
              "<IPython.core.display.HTML object>"
            ],
            "text/html": [
              "\n",
              "    <div>\n",
              "      <progress value='196' class='' max='196' style='width:300px; height:20px; vertical-align: middle;'></progress>\n",
              "      100.00% [196/196 02:36&lt;00:00]\n",
              "    </div>\n",
              "    "
            ]
          },
          "metadata": {}
        },
        {
          "output_type": "display_data",
          "data": {
            "text/plain": [
              "<IPython.core.display.HTML object>"
            ],
            "text/html": [
              "\n",
              "<style>\n",
              "    /* Turns off some styling */\n",
              "    progress {\n",
              "        /* gets rid of default border in Firefox and Opera. */\n",
              "        border: none;\n",
              "        /* Needs to be in here for Safari polyfill so background images work as expected. */\n",
              "        background-size: auto;\n",
              "    }\n",
              "    progress:not([value]), progress:not([value])::-webkit-progress-bar {\n",
              "        background: repeating-linear-gradient(45deg, #7e7e7e, #7e7e7e 10px, #5c5c5c 10px, #5c5c5c 20px);\n",
              "    }\n",
              "    .progress-bar-interrupted, .progress-bar-interrupted::-webkit-progress-bar {\n",
              "        background: #F44336;\n",
              "    }\n",
              "</style>\n"
            ]
          },
          "metadata": {}
        },
        {
          "output_type": "display_data",
          "data": {
            "text/plain": [
              "<IPython.core.display.HTML object>"
            ],
            "text/html": [
              "\n",
              "    <div>\n",
              "      <progress value='196' class='' max='196' style='width:300px; height:20px; vertical-align: middle;'></progress>\n",
              "      100.00% [196/196 02:34&lt;00:00]\n",
              "    </div>\n",
              "    "
            ]
          },
          "metadata": {}
        },
        {
          "output_type": "display_data",
          "data": {
            "text/plain": [
              "<IPython.core.display.HTML object>"
            ],
            "text/html": [
              "\n",
              "<style>\n",
              "    /* Turns off some styling */\n",
              "    progress {\n",
              "        /* gets rid of default border in Firefox and Opera. */\n",
              "        border: none;\n",
              "        /* Needs to be in here for Safari polyfill so background images work as expected. */\n",
              "        background-size: auto;\n",
              "    }\n",
              "    progress:not([value]), progress:not([value])::-webkit-progress-bar {\n",
              "        background: repeating-linear-gradient(45deg, #7e7e7e, #7e7e7e 10px, #5c5c5c 10px, #5c5c5c 20px);\n",
              "    }\n",
              "    .progress-bar-interrupted, .progress-bar-interrupted::-webkit-progress-bar {\n",
              "        background: #F44336;\n",
              "    }\n",
              "</style>\n"
            ]
          },
          "metadata": {}
        },
        {
          "output_type": "display_data",
          "data": {
            "text/plain": [
              "<IPython.core.display.HTML object>"
            ],
            "text/html": [
              "\n",
              "    <div>\n",
              "      <progress value='196' class='' max='196' style='width:300px; height:20px; vertical-align: middle;'></progress>\n",
              "      100.00% [196/196 02:34&lt;00:00]\n",
              "    </div>\n",
              "    "
            ]
          },
          "metadata": {}
        },
        {
          "output_type": "display_data",
          "data": {
            "text/plain": [
              "<IPython.core.display.HTML object>"
            ],
            "text/html": [
              "\n",
              "<style>\n",
              "    /* Turns off some styling */\n",
              "    progress {\n",
              "        /* gets rid of default border in Firefox and Opera. */\n",
              "        border: none;\n",
              "        /* Needs to be in here for Safari polyfill so background images work as expected. */\n",
              "        background-size: auto;\n",
              "    }\n",
              "    progress:not([value]), progress:not([value])::-webkit-progress-bar {\n",
              "        background: repeating-linear-gradient(45deg, #7e7e7e, #7e7e7e 10px, #5c5c5c 10px, #5c5c5c 20px);\n",
              "    }\n",
              "    .progress-bar-interrupted, .progress-bar-interrupted::-webkit-progress-bar {\n",
              "        background: #F44336;\n",
              "    }\n",
              "</style>\n"
            ]
          },
          "metadata": {}
        },
        {
          "output_type": "display_data",
          "data": {
            "text/plain": [
              "<IPython.core.display.HTML object>"
            ],
            "text/html": [
              "\n",
              "    <div>\n",
              "      <progress value='196' class='' max='196' style='width:300px; height:20px; vertical-align: middle;'></progress>\n",
              "      100.00% [196/196 02:35&lt;00:00]\n",
              "    </div>\n",
              "    "
            ]
          },
          "metadata": {}
        },
        {
          "output_type": "display_data",
          "data": {
            "text/plain": [
              "<IPython.core.display.HTML object>"
            ],
            "text/html": [
              "\n",
              "<style>\n",
              "    /* Turns off some styling */\n",
              "    progress {\n",
              "        /* gets rid of default border in Firefox and Opera. */\n",
              "        border: none;\n",
              "        /* Needs to be in here for Safari polyfill so background images work as expected. */\n",
              "        background-size: auto;\n",
              "    }\n",
              "    progress:not([value]), progress:not([value])::-webkit-progress-bar {\n",
              "        background: repeating-linear-gradient(45deg, #7e7e7e, #7e7e7e 10px, #5c5c5c 10px, #5c5c5c 20px);\n",
              "    }\n",
              "    .progress-bar-interrupted, .progress-bar-interrupted::-webkit-progress-bar {\n",
              "        background: #F44336;\n",
              "    }\n",
              "</style>\n"
            ]
          },
          "metadata": {}
        },
        {
          "output_type": "display_data",
          "data": {
            "text/plain": [
              "<IPython.core.display.HTML object>"
            ],
            "text/html": [
              "\n",
              "    <div>\n",
              "      <progress value='196' class='' max='196' style='width:300px; height:20px; vertical-align: middle;'></progress>\n",
              "      100.00% [196/196 02:34&lt;00:00]\n",
              "    </div>\n",
              "    "
            ]
          },
          "metadata": {}
        },
        {
          "output_type": "display_data",
          "data": {
            "text/plain": [
              "<IPython.core.display.HTML object>"
            ],
            "text/html": [
              "\n",
              "<style>\n",
              "    /* Turns off some styling */\n",
              "    progress {\n",
              "        /* gets rid of default border in Firefox and Opera. */\n",
              "        border: none;\n",
              "        /* Needs to be in here for Safari polyfill so background images work as expected. */\n",
              "        background-size: auto;\n",
              "    }\n",
              "    progress:not([value]), progress:not([value])::-webkit-progress-bar {\n",
              "        background: repeating-linear-gradient(45deg, #7e7e7e, #7e7e7e 10px, #5c5c5c 10px, #5c5c5c 20px);\n",
              "    }\n",
              "    .progress-bar-interrupted, .progress-bar-interrupted::-webkit-progress-bar {\n",
              "        background: #F44336;\n",
              "    }\n",
              "</style>\n"
            ]
          },
          "metadata": {}
        },
        {
          "output_type": "display_data",
          "data": {
            "text/plain": [
              "<IPython.core.display.HTML object>"
            ],
            "text/html": [
              "\n",
              "    <div>\n",
              "      <progress value='196' class='' max='196' style='width:300px; height:20px; vertical-align: middle;'></progress>\n",
              "      100.00% [196/196 02:30&lt;00:00]\n",
              "    </div>\n",
              "    "
            ]
          },
          "metadata": {}
        },
        {
          "output_type": "display_data",
          "data": {
            "text/plain": [
              "<IPython.core.display.HTML object>"
            ],
            "text/html": [
              "\n",
              "<style>\n",
              "    /* Turns off some styling */\n",
              "    progress {\n",
              "        /* gets rid of default border in Firefox and Opera. */\n",
              "        border: none;\n",
              "        /* Needs to be in here for Safari polyfill so background images work as expected. */\n",
              "        background-size: auto;\n",
              "    }\n",
              "    progress:not([value]), progress:not([value])::-webkit-progress-bar {\n",
              "        background: repeating-linear-gradient(45deg, #7e7e7e, #7e7e7e 10px, #5c5c5c 10px, #5c5c5c 20px);\n",
              "    }\n",
              "    .progress-bar-interrupted, .progress-bar-interrupted::-webkit-progress-bar {\n",
              "        background: #F44336;\n",
              "    }\n",
              "</style>\n"
            ]
          },
          "metadata": {}
        },
        {
          "output_type": "display_data",
          "data": {
            "text/plain": [
              "<IPython.core.display.HTML object>"
            ],
            "text/html": [
              "\n",
              "    <div>\n",
              "      <progress value='196' class='' max='196' style='width:300px; height:20px; vertical-align: middle;'></progress>\n",
              "      100.00% [196/196 02:32&lt;00:00]\n",
              "    </div>\n",
              "    "
            ]
          },
          "metadata": {}
        },
        {
          "output_type": "display_data",
          "data": {
            "text/plain": [
              "<IPython.core.display.Javascript object>"
            ],
            "application/javascript": [
              "\n",
              "    async function download(id, filename, size) {\n",
              "      if (!google.colab.kernel.accessAllowed) {\n",
              "        return;\n",
              "      }\n",
              "      const div = document.createElement('div');\n",
              "      const label = document.createElement('label');\n",
              "      label.textContent = `Downloading \"${filename}\": `;\n",
              "      div.appendChild(label);\n",
              "      const progress = document.createElement('progress');\n",
              "      progress.max = size;\n",
              "      div.appendChild(progress);\n",
              "      document.body.appendChild(div);\n",
              "\n",
              "      const buffers = [];\n",
              "      let downloaded = 0;\n",
              "\n",
              "      const channel = await google.colab.kernel.comms.open(id);\n",
              "      // Send a message to notify the kernel that we're ready.\n",
              "      channel.send({})\n",
              "\n",
              "      for await (const message of channel.messages) {\n",
              "        // Send a message to notify the kernel that we're ready.\n",
              "        channel.send({})\n",
              "        if (message.buffers) {\n",
              "          for (const buffer of message.buffers) {\n",
              "            buffers.push(buffer);\n",
              "            downloaded += buffer.byteLength;\n",
              "            progress.value = downloaded;\n",
              "          }\n",
              "        }\n",
              "      }\n",
              "      const blob = new Blob(buffers, {type: 'application/binary'});\n",
              "      const a = document.createElement('a');\n",
              "      a.href = window.URL.createObjectURL(blob);\n",
              "      a.download = filename;\n",
              "      div.appendChild(a);\n",
              "      a.click();\n",
              "      div.remove();\n",
              "    }\n",
              "  "
            ]
          },
          "metadata": {}
        },
        {
          "output_type": "display_data",
          "data": {
            "text/plain": [
              "<IPython.core.display.Javascript object>"
            ],
            "application/javascript": [
              "download(\"download_9642bce4-a280-4bf8-a922-7316f787ca81\", \"pOTC_all_layers_accuracies.pickle\", 504)"
            ]
          },
          "metadata": {}
        }
      ]
    },
    {
      "cell_type": "code",
      "source": [
        "#aOTC all layers lesioning\n",
        "brain_region = 'aOTC'\n",
        "\n",
        "#what the scores are going to be stored in\n",
        "top1s = np.zeros(percentages.size)\n",
        "top5s = np.zeros(percentages.size)\n",
        "losses = np.zeros(percentages.size)\n",
        "\n",
        "for i in range(percentages.size):\n",
        "  percentage = percentages[i]\n",
        "\n",
        "  layer_masks = [masks[f\"{brain_region}_{layer_name}_{percentage}\"].to(device) for layer_name in layer_names]\n",
        "\n",
        "  with FeatureEditor(model_1, layer_names, layer_masks, return_features=False) as editor:\n",
        "    top1, top5, loss = validate(editor, val_loader)\n",
        "\n",
        "  #appends accuracies and losses to list\n",
        "  top1s[i] = top1\n",
        "  top5s[i] = top5\n",
        "  losses[i] = loss\n",
        "  \n",
        "aOTC_all_layers = {}\n",
        "aOTC_all_layers['percentages'] = percentages\n",
        "aOTC_all_layers['top1s'] = top1s\n",
        "aOTC_all_layers['top5s'] = top5s\n",
        "aOTC_all_layers['losses'] = losses\n",
        "\n",
        "dict_save(aOTC_all_layers, brain_region+\"_all_layers_accuracies\")\n",
        "#downloads to downloads\n",
        "files.download(brain_region+\"_all_layers_accuracies.pickle\")"
      ],
      "metadata": {
        "id": "D_6g9QnUArvU",
        "colab": {
          "base_uri": "https://localhost:8080/",
          "height": 157
        },
        "outputId": "3f6b9b36-3b36-4fb0-dc85-02d766126128"
      },
      "execution_count": null,
      "outputs": [
        {
          "output_type": "display_data",
          "data": {
            "text/plain": [
              "<IPython.core.display.HTML object>"
            ],
            "text/html": [
              "\n",
              "<style>\n",
              "    /* Turns off some styling */\n",
              "    progress {\n",
              "        /* gets rid of default border in Firefox and Opera. */\n",
              "        border: none;\n",
              "        /* Needs to be in here for Safari polyfill so background images work as expected. */\n",
              "        background-size: auto;\n",
              "    }\n",
              "    progress:not([value]), progress:not([value])::-webkit-progress-bar {\n",
              "        background: repeating-linear-gradient(45deg, #7e7e7e, #7e7e7e 10px, #5c5c5c 10px, #5c5c5c 20px);\n",
              "    }\n",
              "    .progress-bar-interrupted, .progress-bar-interrupted::-webkit-progress-bar {\n",
              "        background: #F44336;\n",
              "    }\n",
              "</style>\n"
            ]
          },
          "metadata": {}
        },
        {
          "output_type": "display_data",
          "data": {
            "text/plain": [
              "<IPython.core.display.HTML object>"
            ],
            "text/html": [
              "\n",
              "    <div>\n",
              "      <progress value='196' class='' max='196' style='width:300px; height:20px; vertical-align: middle;'></progress>\n",
              "      100.00% [196/196 02:34&lt;00:00]\n",
              "    </div>\n",
              "    "
            ]
          },
          "metadata": {}
        },
        {
          "output_type": "display_data",
          "data": {
            "text/plain": [
              "<IPython.core.display.HTML object>"
            ],
            "text/html": [
              "\n",
              "<style>\n",
              "    /* Turns off some styling */\n",
              "    progress {\n",
              "        /* gets rid of default border in Firefox and Opera. */\n",
              "        border: none;\n",
              "        /* Needs to be in here for Safari polyfill so background images work as expected. */\n",
              "        background-size: auto;\n",
              "    }\n",
              "    progress:not([value]), progress:not([value])::-webkit-progress-bar {\n",
              "        background: repeating-linear-gradient(45deg, #7e7e7e, #7e7e7e 10px, #5c5c5c 10px, #5c5c5c 20px);\n",
              "    }\n",
              "    .progress-bar-interrupted, .progress-bar-interrupted::-webkit-progress-bar {\n",
              "        background: #F44336;\n",
              "    }\n",
              "</style>\n"
            ]
          },
          "metadata": {}
        },
        {
          "output_type": "display_data",
          "data": {
            "text/plain": [
              "<IPython.core.display.HTML object>"
            ],
            "text/html": [
              "\n",
              "    <div>\n",
              "      <progress value='196' class='' max='196' style='width:300px; height:20px; vertical-align: middle;'></progress>\n",
              "      100.00% [196/196 02:29&lt;00:00]\n",
              "    </div>\n",
              "    "
            ]
          },
          "metadata": {}
        },
        {
          "output_type": "display_data",
          "data": {
            "text/plain": [
              "<IPython.core.display.HTML object>"
            ],
            "text/html": [
              "\n",
              "<style>\n",
              "    /* Turns off some styling */\n",
              "    progress {\n",
              "        /* gets rid of default border in Firefox and Opera. */\n",
              "        border: none;\n",
              "        /* Needs to be in here for Safari polyfill so background images work as expected. */\n",
              "        background-size: auto;\n",
              "    }\n",
              "    progress:not([value]), progress:not([value])::-webkit-progress-bar {\n",
              "        background: repeating-linear-gradient(45deg, #7e7e7e, #7e7e7e 10px, #5c5c5c 10px, #5c5c5c 20px);\n",
              "    }\n",
              "    .progress-bar-interrupted, .progress-bar-interrupted::-webkit-progress-bar {\n",
              "        background: #F44336;\n",
              "    }\n",
              "</style>\n"
            ]
          },
          "metadata": {}
        },
        {
          "output_type": "display_data",
          "data": {
            "text/plain": [
              "<IPython.core.display.HTML object>"
            ],
            "text/html": [
              "\n",
              "    <div>\n",
              "      <progress value='196' class='' max='196' style='width:300px; height:20px; vertical-align: middle;'></progress>\n",
              "      100.00% [196/196 02:29&lt;00:00]\n",
              "    </div>\n",
              "    "
            ]
          },
          "metadata": {}
        },
        {
          "output_type": "display_data",
          "data": {
            "text/plain": [
              "<IPython.core.display.HTML object>"
            ],
            "text/html": [
              "\n",
              "<style>\n",
              "    /* Turns off some styling */\n",
              "    progress {\n",
              "        /* gets rid of default border in Firefox and Opera. */\n",
              "        border: none;\n",
              "        /* Needs to be in here for Safari polyfill so background images work as expected. */\n",
              "        background-size: auto;\n",
              "    }\n",
              "    progress:not([value]), progress:not([value])::-webkit-progress-bar {\n",
              "        background: repeating-linear-gradient(45deg, #7e7e7e, #7e7e7e 10px, #5c5c5c 10px, #5c5c5c 20px);\n",
              "    }\n",
              "    .progress-bar-interrupted, .progress-bar-interrupted::-webkit-progress-bar {\n",
              "        background: #F44336;\n",
              "    }\n",
              "</style>\n"
            ]
          },
          "metadata": {}
        },
        {
          "output_type": "display_data",
          "data": {
            "text/plain": [
              "<IPython.core.display.HTML object>"
            ],
            "text/html": [
              "\n",
              "    <div>\n",
              "      <progress value='196' class='' max='196' style='width:300px; height:20px; vertical-align: middle;'></progress>\n",
              "      100.00% [196/196 02:30&lt;00:00]\n",
              "    </div>\n",
              "    "
            ]
          },
          "metadata": {}
        },
        {
          "output_type": "display_data",
          "data": {
            "text/plain": [
              "<IPython.core.display.HTML object>"
            ],
            "text/html": [
              "\n",
              "<style>\n",
              "    /* Turns off some styling */\n",
              "    progress {\n",
              "        /* gets rid of default border in Firefox and Opera. */\n",
              "        border: none;\n",
              "        /* Needs to be in here for Safari polyfill so background images work as expected. */\n",
              "        background-size: auto;\n",
              "    }\n",
              "    progress:not([value]), progress:not([value])::-webkit-progress-bar {\n",
              "        background: repeating-linear-gradient(45deg, #7e7e7e, #7e7e7e 10px, #5c5c5c 10px, #5c5c5c 20px);\n",
              "    }\n",
              "    .progress-bar-interrupted, .progress-bar-interrupted::-webkit-progress-bar {\n",
              "        background: #F44336;\n",
              "    }\n",
              "</style>\n"
            ]
          },
          "metadata": {}
        },
        {
          "output_type": "display_data",
          "data": {
            "text/plain": [
              "<IPython.core.display.HTML object>"
            ],
            "text/html": [
              "\n",
              "    <div>\n",
              "      <progress value='196' class='' max='196' style='width:300px; height:20px; vertical-align: middle;'></progress>\n",
              "      100.00% [196/196 02:20&lt;00:00]\n",
              "    </div>\n",
              "    "
            ]
          },
          "metadata": {}
        },
        {
          "output_type": "display_data",
          "data": {
            "text/plain": [
              "<IPython.core.display.HTML object>"
            ],
            "text/html": [
              "\n",
              "<style>\n",
              "    /* Turns off some styling */\n",
              "    progress {\n",
              "        /* gets rid of default border in Firefox and Opera. */\n",
              "        border: none;\n",
              "        /* Needs to be in here for Safari polyfill so background images work as expected. */\n",
              "        background-size: auto;\n",
              "    }\n",
              "    progress:not([value]), progress:not([value])::-webkit-progress-bar {\n",
              "        background: repeating-linear-gradient(45deg, #7e7e7e, #7e7e7e 10px, #5c5c5c 10px, #5c5c5c 20px);\n",
              "    }\n",
              "    .progress-bar-interrupted, .progress-bar-interrupted::-webkit-progress-bar {\n",
              "        background: #F44336;\n",
              "    }\n",
              "</style>\n"
            ]
          },
          "metadata": {}
        },
        {
          "output_type": "display_data",
          "data": {
            "text/plain": [
              "<IPython.core.display.HTML object>"
            ],
            "text/html": [
              "\n",
              "    <div>\n",
              "      <progress value='196' class='' max='196' style='width:300px; height:20px; vertical-align: middle;'></progress>\n",
              "      100.00% [196/196 02:20&lt;00:00]\n",
              "    </div>\n",
              "    "
            ]
          },
          "metadata": {}
        },
        {
          "output_type": "display_data",
          "data": {
            "text/plain": [
              "<IPython.core.display.HTML object>"
            ],
            "text/html": [
              "\n",
              "<style>\n",
              "    /* Turns off some styling */\n",
              "    progress {\n",
              "        /* gets rid of default border in Firefox and Opera. */\n",
              "        border: none;\n",
              "        /* Needs to be in here for Safari polyfill so background images work as expected. */\n",
              "        background-size: auto;\n",
              "    }\n",
              "    progress:not([value]), progress:not([value])::-webkit-progress-bar {\n",
              "        background: repeating-linear-gradient(45deg, #7e7e7e, #7e7e7e 10px, #5c5c5c 10px, #5c5c5c 20px);\n",
              "    }\n",
              "    .progress-bar-interrupted, .progress-bar-interrupted::-webkit-progress-bar {\n",
              "        background: #F44336;\n",
              "    }\n",
              "</style>\n"
            ]
          },
          "metadata": {}
        },
        {
          "output_type": "display_data",
          "data": {
            "text/plain": [
              "<IPython.core.display.HTML object>"
            ],
            "text/html": [
              "\n",
              "    <div>\n",
              "      <progress value='196' class='' max='196' style='width:300px; height:20px; vertical-align: middle;'></progress>\n",
              "      100.00% [196/196 02:23&lt;00:00]\n",
              "    </div>\n",
              "    "
            ]
          },
          "metadata": {}
        },
        {
          "output_type": "display_data",
          "data": {
            "text/plain": [
              "<IPython.core.display.Javascript object>"
            ],
            "application/javascript": [
              "\n",
              "    async function download(id, filename, size) {\n",
              "      if (!google.colab.kernel.accessAllowed) {\n",
              "        return;\n",
              "      }\n",
              "      const div = document.createElement('div');\n",
              "      const label = document.createElement('label');\n",
              "      label.textContent = `Downloading \"${filename}\": `;\n",
              "      div.appendChild(label);\n",
              "      const progress = document.createElement('progress');\n",
              "      progress.max = size;\n",
              "      div.appendChild(progress);\n",
              "      document.body.appendChild(div);\n",
              "\n",
              "      const buffers = [];\n",
              "      let downloaded = 0;\n",
              "\n",
              "      const channel = await google.colab.kernel.comms.open(id);\n",
              "      // Send a message to notify the kernel that we're ready.\n",
              "      channel.send({})\n",
              "\n",
              "      for await (const message of channel.messages) {\n",
              "        // Send a message to notify the kernel that we're ready.\n",
              "        channel.send({})\n",
              "        if (message.buffers) {\n",
              "          for (const buffer of message.buffers) {\n",
              "            buffers.push(buffer);\n",
              "            downloaded += buffer.byteLength;\n",
              "            progress.value = downloaded;\n",
              "          }\n",
              "        }\n",
              "      }\n",
              "      const blob = new Blob(buffers, {type: 'application/binary'});\n",
              "      const a = document.createElement('a');\n",
              "      a.href = window.URL.createObjectURL(blob);\n",
              "      a.download = filename;\n",
              "      div.appendChild(a);\n",
              "      a.click();\n",
              "      div.remove();\n",
              "    }\n",
              "  "
            ]
          },
          "metadata": {}
        },
        {
          "output_type": "display_data",
          "data": {
            "text/plain": [
              "<IPython.core.display.Javascript object>"
            ],
            "application/javascript": [
              "download(\"download_7c6edb41-bb4c-46f9-b203-3251dd0b2f23\", \"aOTC_all_layers_accuracies.pickle\", 504)"
            ]
          },
          "metadata": {}
        }
      ]
    },
    {
      "cell_type": "code",
      "source": [
        "#random all layers lesioning\n",
        "brain_region = 'random'\n",
        "\n",
        "#what the scores are going to be stored in\n",
        "top1s = np.zeros(percentages.size)\n",
        "top5s = np.zeros(percentages.size)\n",
        "losses = np.zeros(percentages.size)\n",
        "\n",
        "for i in range(percentages.size):\n",
        "  percentage = percentages[i]\n",
        "  layer_masks = [masks[f\"{brain_region}_{layer_name}_{percentage}\"].to(device) for layer_name in layer_names]\n",
        "\n",
        "  with FeatureEditor(model_1, layer_names, layer_masks, return_features=False) as editor:\n",
        "    top1, top5, loss = validate(editor, val_loader)\n",
        "\n",
        "  #appends accuracies and losses to list\n",
        "  top1s[i] = top1\n",
        "  top5s[i] = top5\n",
        "  losses[i] = loss\n",
        "  \n",
        "random_all_layers = {}\n",
        "random_all_layers['percentages'] = percentages\n",
        "random_all_layers['top1s'] = top1s\n",
        "random_all_layers['top5s'] = top5s\n",
        "random_all_layers['losses'] = losses\n",
        "\n",
        "dict_save(random_all_layers, brain_region+\"_all_layers_accuracies\")\n",
        "#downloads to downloads\n",
        "files.download(brain_region+\"_all_layers_accuracies.pickle\")"
      ],
      "metadata": {
        "id": "xuXOHKJeLHqK",
        "colab": {
          "base_uri": "https://localhost:8080/",
          "height": 157
        },
        "outputId": "2319c9a5-6c30-4152-bdb7-d0572615d475"
      },
      "execution_count": null,
      "outputs": [
        {
          "output_type": "display_data",
          "data": {
            "text/plain": [
              "<IPython.core.display.HTML object>"
            ],
            "text/html": [
              "\n",
              "<style>\n",
              "    /* Turns off some styling */\n",
              "    progress {\n",
              "        /* gets rid of default border in Firefox and Opera. */\n",
              "        border: none;\n",
              "        /* Needs to be in here for Safari polyfill so background images work as expected. */\n",
              "        background-size: auto;\n",
              "    }\n",
              "    progress:not([value]), progress:not([value])::-webkit-progress-bar {\n",
              "        background: repeating-linear-gradient(45deg, #7e7e7e, #7e7e7e 10px, #5c5c5c 10px, #5c5c5c 20px);\n",
              "    }\n",
              "    .progress-bar-interrupted, .progress-bar-interrupted::-webkit-progress-bar {\n",
              "        background: #F44336;\n",
              "    }\n",
              "</style>\n"
            ]
          },
          "metadata": {}
        },
        {
          "output_type": "display_data",
          "data": {
            "text/plain": [
              "<IPython.core.display.HTML object>"
            ],
            "text/html": [
              "\n",
              "    <div>\n",
              "      <progress value='196' class='' max='196' style='width:300px; height:20px; vertical-align: middle;'></progress>\n",
              "      100.00% [196/196 02:19&lt;00:00]\n",
              "    </div>\n",
              "    "
            ]
          },
          "metadata": {}
        },
        {
          "output_type": "display_data",
          "data": {
            "text/plain": [
              "<IPython.core.display.HTML object>"
            ],
            "text/html": [
              "\n",
              "<style>\n",
              "    /* Turns off some styling */\n",
              "    progress {\n",
              "        /* gets rid of default border in Firefox and Opera. */\n",
              "        border: none;\n",
              "        /* Needs to be in here for Safari polyfill so background images work as expected. */\n",
              "        background-size: auto;\n",
              "    }\n",
              "    progress:not([value]), progress:not([value])::-webkit-progress-bar {\n",
              "        background: repeating-linear-gradient(45deg, #7e7e7e, #7e7e7e 10px, #5c5c5c 10px, #5c5c5c 20px);\n",
              "    }\n",
              "    .progress-bar-interrupted, .progress-bar-interrupted::-webkit-progress-bar {\n",
              "        background: #F44336;\n",
              "    }\n",
              "</style>\n"
            ]
          },
          "metadata": {}
        },
        {
          "output_type": "display_data",
          "data": {
            "text/plain": [
              "<IPython.core.display.HTML object>"
            ],
            "text/html": [
              "\n",
              "    <div>\n",
              "      <progress value='196' class='' max='196' style='width:300px; height:20px; vertical-align: middle;'></progress>\n",
              "      100.00% [196/196 02:18&lt;00:00]\n",
              "    </div>\n",
              "    "
            ]
          },
          "metadata": {}
        },
        {
          "output_type": "display_data",
          "data": {
            "text/plain": [
              "<IPython.core.display.HTML object>"
            ],
            "text/html": [
              "\n",
              "<style>\n",
              "    /* Turns off some styling */\n",
              "    progress {\n",
              "        /* gets rid of default border in Firefox and Opera. */\n",
              "        border: none;\n",
              "        /* Needs to be in here for Safari polyfill so background images work as expected. */\n",
              "        background-size: auto;\n",
              "    }\n",
              "    progress:not([value]), progress:not([value])::-webkit-progress-bar {\n",
              "        background: repeating-linear-gradient(45deg, #7e7e7e, #7e7e7e 10px, #5c5c5c 10px, #5c5c5c 20px);\n",
              "    }\n",
              "    .progress-bar-interrupted, .progress-bar-interrupted::-webkit-progress-bar {\n",
              "        background: #F44336;\n",
              "    }\n",
              "</style>\n"
            ]
          },
          "metadata": {}
        },
        {
          "output_type": "display_data",
          "data": {
            "text/plain": [
              "<IPython.core.display.HTML object>"
            ],
            "text/html": [
              "\n",
              "    <div>\n",
              "      <progress value='196' class='' max='196' style='width:300px; height:20px; vertical-align: middle;'></progress>\n",
              "      100.00% [196/196 02:15&lt;00:00]\n",
              "    </div>\n",
              "    "
            ]
          },
          "metadata": {}
        },
        {
          "output_type": "display_data",
          "data": {
            "text/plain": [
              "<IPython.core.display.HTML object>"
            ],
            "text/html": [
              "\n",
              "<style>\n",
              "    /* Turns off some styling */\n",
              "    progress {\n",
              "        /* gets rid of default border in Firefox and Opera. */\n",
              "        border: none;\n",
              "        /* Needs to be in here for Safari polyfill so background images work as expected. */\n",
              "        background-size: auto;\n",
              "    }\n",
              "    progress:not([value]), progress:not([value])::-webkit-progress-bar {\n",
              "        background: repeating-linear-gradient(45deg, #7e7e7e, #7e7e7e 10px, #5c5c5c 10px, #5c5c5c 20px);\n",
              "    }\n",
              "    .progress-bar-interrupted, .progress-bar-interrupted::-webkit-progress-bar {\n",
              "        background: #F44336;\n",
              "    }\n",
              "</style>\n"
            ]
          },
          "metadata": {}
        },
        {
          "output_type": "display_data",
          "data": {
            "text/plain": [
              "<IPython.core.display.HTML object>"
            ],
            "text/html": [
              "\n",
              "    <div>\n",
              "      <progress value='196' class='' max='196' style='width:300px; height:20px; vertical-align: middle;'></progress>\n",
              "      100.00% [196/196 02:19&lt;00:00]\n",
              "    </div>\n",
              "    "
            ]
          },
          "metadata": {}
        },
        {
          "output_type": "display_data",
          "data": {
            "text/plain": [
              "<IPython.core.display.HTML object>"
            ],
            "text/html": [
              "\n",
              "<style>\n",
              "    /* Turns off some styling */\n",
              "    progress {\n",
              "        /* gets rid of default border in Firefox and Opera. */\n",
              "        border: none;\n",
              "        /* Needs to be in here for Safari polyfill so background images work as expected. */\n",
              "        background-size: auto;\n",
              "    }\n",
              "    progress:not([value]), progress:not([value])::-webkit-progress-bar {\n",
              "        background: repeating-linear-gradient(45deg, #7e7e7e, #7e7e7e 10px, #5c5c5c 10px, #5c5c5c 20px);\n",
              "    }\n",
              "    .progress-bar-interrupted, .progress-bar-interrupted::-webkit-progress-bar {\n",
              "        background: #F44336;\n",
              "    }\n",
              "</style>\n"
            ]
          },
          "metadata": {}
        },
        {
          "output_type": "display_data",
          "data": {
            "text/plain": [
              "<IPython.core.display.HTML object>"
            ],
            "text/html": [
              "\n",
              "    <div>\n",
              "      <progress value='196' class='' max='196' style='width:300px; height:20px; vertical-align: middle;'></progress>\n",
              "      100.00% [196/196 02:17&lt;00:00]\n",
              "    </div>\n",
              "    "
            ]
          },
          "metadata": {}
        },
        {
          "output_type": "display_data",
          "data": {
            "text/plain": [
              "<IPython.core.display.HTML object>"
            ],
            "text/html": [
              "\n",
              "<style>\n",
              "    /* Turns off some styling */\n",
              "    progress {\n",
              "        /* gets rid of default border in Firefox and Opera. */\n",
              "        border: none;\n",
              "        /* Needs to be in here for Safari polyfill so background images work as expected. */\n",
              "        background-size: auto;\n",
              "    }\n",
              "    progress:not([value]), progress:not([value])::-webkit-progress-bar {\n",
              "        background: repeating-linear-gradient(45deg, #7e7e7e, #7e7e7e 10px, #5c5c5c 10px, #5c5c5c 20px);\n",
              "    }\n",
              "    .progress-bar-interrupted, .progress-bar-interrupted::-webkit-progress-bar {\n",
              "        background: #F44336;\n",
              "    }\n",
              "</style>\n"
            ]
          },
          "metadata": {}
        },
        {
          "output_type": "display_data",
          "data": {
            "text/plain": [
              "<IPython.core.display.HTML object>"
            ],
            "text/html": [
              "\n",
              "    <div>\n",
              "      <progress value='196' class='' max='196' style='width:300px; height:20px; vertical-align: middle;'></progress>\n",
              "      100.00% [196/196 02:18&lt;00:00]\n",
              "    </div>\n",
              "    "
            ]
          },
          "metadata": {}
        },
        {
          "output_type": "display_data",
          "data": {
            "text/plain": [
              "<IPython.core.display.HTML object>"
            ],
            "text/html": [
              "\n",
              "<style>\n",
              "    /* Turns off some styling */\n",
              "    progress {\n",
              "        /* gets rid of default border in Firefox and Opera. */\n",
              "        border: none;\n",
              "        /* Needs to be in here for Safari polyfill so background images work as expected. */\n",
              "        background-size: auto;\n",
              "    }\n",
              "    progress:not([value]), progress:not([value])::-webkit-progress-bar {\n",
              "        background: repeating-linear-gradient(45deg, #7e7e7e, #7e7e7e 10px, #5c5c5c 10px, #5c5c5c 20px);\n",
              "    }\n",
              "    .progress-bar-interrupted, .progress-bar-interrupted::-webkit-progress-bar {\n",
              "        background: #F44336;\n",
              "    }\n",
              "</style>\n"
            ]
          },
          "metadata": {}
        },
        {
          "output_type": "display_data",
          "data": {
            "text/plain": [
              "<IPython.core.display.HTML object>"
            ],
            "text/html": [
              "\n",
              "    <div>\n",
              "      <progress value='196' class='' max='196' style='width:300px; height:20px; vertical-align: middle;'></progress>\n",
              "      100.00% [196/196 02:11&lt;00:00]\n",
              "    </div>\n",
              "    "
            ]
          },
          "metadata": {}
        },
        {
          "output_type": "display_data",
          "data": {
            "text/plain": [
              "<IPython.core.display.Javascript object>"
            ],
            "application/javascript": [
              "\n",
              "    async function download(id, filename, size) {\n",
              "      if (!google.colab.kernel.accessAllowed) {\n",
              "        return;\n",
              "      }\n",
              "      const div = document.createElement('div');\n",
              "      const label = document.createElement('label');\n",
              "      label.textContent = `Downloading \"${filename}\": `;\n",
              "      div.appendChild(label);\n",
              "      const progress = document.createElement('progress');\n",
              "      progress.max = size;\n",
              "      div.appendChild(progress);\n",
              "      document.body.appendChild(div);\n",
              "\n",
              "      const buffers = [];\n",
              "      let downloaded = 0;\n",
              "\n",
              "      const channel = await google.colab.kernel.comms.open(id);\n",
              "      // Send a message to notify the kernel that we're ready.\n",
              "      channel.send({})\n",
              "\n",
              "      for await (const message of channel.messages) {\n",
              "        // Send a message to notify the kernel that we're ready.\n",
              "        channel.send({})\n",
              "        if (message.buffers) {\n",
              "          for (const buffer of message.buffers) {\n",
              "            buffers.push(buffer);\n",
              "            downloaded += buffer.byteLength;\n",
              "            progress.value = downloaded;\n",
              "          }\n",
              "        }\n",
              "      }\n",
              "      const blob = new Blob(buffers, {type: 'application/binary'});\n",
              "      const a = document.createElement('a');\n",
              "      a.href = window.URL.createObjectURL(blob);\n",
              "      a.download = filename;\n",
              "      div.appendChild(a);\n",
              "      a.click();\n",
              "      div.remove();\n",
              "    }\n",
              "  "
            ]
          },
          "metadata": {}
        },
        {
          "output_type": "display_data",
          "data": {
            "text/plain": [
              "<IPython.core.display.Javascript object>"
            ],
            "application/javascript": [
              "download(\"download_9fad23aa-5160-4a10-a5ad-d497d696ec53\", \"random_all_layers_accuracies.pickle\", 504)"
            ]
          },
          "metadata": {}
        }
      ]
    },
    {
      "cell_type": "code",
      "source": [],
      "metadata": {
        "id": "osDXjCAieXOU"
      },
      "execution_count": null,
      "outputs": []
    },
    {
      "cell_type": "markdown",
      "source": [
        "# Multi-layer-lesion function"
      ],
      "metadata": {
        "id": "1wWwnu2PeX0j"
      }
    },
    {
      "cell_type": "code",
      "source": [
        "def run_multi_layer_lesioning(model, val_loader, brain_region, masks, layer_names):\n",
        "  #what the scores are going to be stored in\n",
        "  top1s = np.zeros(percentages.size)\n",
        "  top5s = np.zeros(percentages.size)\n",
        "  losses = np.zeros(percentages.size)\n",
        "\n",
        "  for i in range(percentages.size):\n",
        "    percentage = percentages[i]\n",
        "    layer_masks = [masks[f\"{brain_region}_{layer_name}_{percentage}\"].to(device) for layer_name in layer_names]\n",
        "\n",
        "    with FeatureEditor(model, layer_names, layer_masks, return_features=False) as editor:\n",
        "      top1, top5, loss = validate(editor, val_loader)\n",
        "\n",
        "    #appends accuracies and losses to list\n",
        "    top1s[i] = top1\n",
        "    top5s[i] = top5\n",
        "    losses[i] = loss\n",
        "    \n",
        "  results = {}\n",
        "  results['brain_region'] = brain_region\n",
        "  results['layer_names'] = layer_names\n",
        "  results['percentages'] = percentages\n",
        "  results['top1s'] = top1s\n",
        "  results['top5s'] = top5s\n",
        "  results['losses'] = losses\n",
        "\n",
        "  return results"
      ],
      "metadata": {
        "id": "loKOvS8ceeAf"
      },
      "execution_count": null,
      "outputs": []
    },
    {
      "cell_type": "code",
      "source": [
        "'''\n",
        "#model_1 - pretrained alexnet\n",
        "layer_name = 'classifier.1'\n",
        "\n",
        "#what the scores are going to be stored in\n",
        "top1s = np.zeros(percentages.size)\n",
        "top5s = np.zeros(percentages.size)\n",
        "losses = np.zeros(percentages.size)\n",
        "\n",
        "#get output map shape\n",
        "with FeatureExtractor(model_1, [layer_name]) as extractor:\n",
        "  extractor.to(device)\n",
        "  dummy_images = torch.rand(10,3,224,224)\n",
        "  dummy_images = dummy_images.to(device)\n",
        "  output = extractor(dummy_images)\n",
        "  with torch.no_grad():\n",
        "    features = output[layer_name]\n",
        "output_map_shape = features.shape[1:]\n",
        "\n",
        "\n",
        "brain_regions_dict = {}\n",
        "brain_regions_dict['EarlyV'] = EarlyV_pretrained_alexnet_classifier1_feature_idxs\n",
        "brain_regions_dict['pOTC'] = pOTC_pretrained_alexnet_classifier1_feature_idxs\n",
        "brain_regions_dict['aOTC'] = aOTC_pretrained_alexnet_classifier1_feature_idxs\n",
        "\n",
        "for region in brain_regions_dict.keys():\n",
        "  mask_units_dict = brain_regions_dict[region]\n",
        "\n",
        "  for i in range(percentages.size):\n",
        "    #make mask for features\n",
        "    percentage_features_lesioned = percentages[i]\n",
        "    mask_units = mask_units_dict[round(percentage_features_lesioned,2)]\n",
        "    mask = generate_mask(output_map_shape, mask_units)\n",
        "    mask = mask.to(device)\n",
        "\n",
        "    with FeatureEditor(model_1, [layer_name], [mask], return_features=False) as editor:\n",
        "      top1, top5, loss = validate(editor, val_loader)\n",
        "  \n",
        "    #appends accuracies and losses to list\n",
        "    top1s[i] = top1\n",
        "    top5s[i] = top5\n",
        "    losses[i] = loss\n",
        "\n",
        "  #making and saving dicts\n",
        "  pretrained_alexnet_classifier1_accuracies = {}\n",
        "\n",
        "  pretrained_alexnet_classifier1_accuracies[\"top1s\"] = top1s\n",
        "  pretrained_alexnet_classifier1_accuracies[\"top5s\"] = top5s\n",
        "  pretrained_alexnet_classifier1_accuracies[\"losses\"] = losses\n",
        "\n",
        "  dict_save(pretrained_alexnet_classifier1_accuracies, region+\"_pretrained_alexnet_classifier1_accuracies\")\n",
        "  #downloads to downloads\n",
        "  files.download(region+\"_pretrained_alexnet_classifier1_accuracies.pickle\")\n",
        "  '''"
      ],
      "metadata": {
        "id": "pEV2bVhcVdPq"
      },
      "execution_count": null,
      "outputs": []
    },
    {
      "cell_type": "code",
      "source": [
        "'''\n",
        "#model_2 - alexnetgn - aOTC\n",
        "layer_name = 'fc6.0'\n",
        "\n",
        "#what the scores are going to be stored in\n",
        "top1s = np.zeros(percentages.size)\n",
        "top5s = np.zeros(percentages.size)\n",
        "losses = np.zeros(percentages.size)\n",
        "\n",
        "region = 'aOTC'\n",
        "#get output map shape\n",
        "with FeatureExtractor(model_2, [layer_name]) as extractor:\n",
        "  extractor.to(device)\n",
        "  dummy_images = torch.rand(10,3,224,224)\n",
        "  dummy_images = dummy_images.to(device)\n",
        "  output = extractor(dummy_images)\n",
        "  with torch.no_grad():\n",
        "    features = output[layer_name]\n",
        "output_map_shape = features.shape[1:]\n",
        "\n",
        "for i in range(percentages.size):\n",
        "  #make mask for features\n",
        "  percentage_features_lesioned = percentages[i]\n",
        "  mask_units = aOTC_alexnetgn_1x_fc6_0_feature_idxs[round(percentage_features_lesioned,2)]\n",
        "  mask = generate_mask(output_map_shape, mask_units)\n",
        "  mask = mask.to(device)\n",
        "  \n",
        "  with FeatureEditor(model_2, [layer_name], [mask], return_features=False) as editor:\n",
        "      top1, top5, loss = validate(editor, val_loader)\n",
        "\n",
        "  top1s[i] = top1\n",
        "  top5s[i] = top5\n",
        "  losses[i] = loss\n",
        "\n",
        "#making and saving dicts\n",
        "alexnetgn_1x_fc6_0_accuracies = {}\n",
        "\n",
        "alexnetgn_1x_fc6_0_accuracies[\"top1s\"] = top1s\n",
        "alexnetgn_1x_fc6_0_accuracies[\"top5s\"] = top5s\n",
        "alexnetgn_1x_fc6_0_accuracies[\"losses\"] = losses\n",
        "\n",
        "dict_save(alexnetgn_1x_fc6_0_accuracies, region+\"_alexnetgn_1x_fc6_0_accuracies\")\n",
        "#downloads to downloads\n",
        "files.download(region+\"_alexnetgn_1x_fc6_0_accuracies.pickle\")\n",
        "'''"
      ],
      "metadata": {
        "id": "vcCGvY4aMrdQ"
      },
      "execution_count": null,
      "outputs": []
    },
    {
      "cell_type": "code",
      "source": [
        "'''\n",
        "#model_1 - pretrained alexnet - random features lesioned\n",
        "layer_name = 'classifier.1'\n",
        "\n",
        "#what the scores are going to be stored in\n",
        "top1s = np.zeros(percentages.size)\n",
        "top5s = np.zeros(percentages.size)\n",
        "losses = np.zeros(percentages.size)\n",
        "\n",
        "#get output map shape\n",
        "with FeatureExtractor(model_1, [layer_name]) as extractor:\n",
        "  extractor.to(device)\n",
        "  dummy_images = torch.rand(10,3,224,224)\n",
        "  dummy_images = dummy_images.to(device)\n",
        "  output = extractor(dummy_images)\n",
        "  with torch.no_grad():\n",
        "    features = output[layer_name]\n",
        "output_map_shape = features.shape[1:]\n",
        "\n",
        "mask_units_dict = random_feature_idxs\n",
        "\n",
        "for i in range(percentages.size):\n",
        "  #make mask for features\n",
        "  percentage_features_lesioned = percentages[i]\n",
        "  mask_units = mask_units_dict[round(percentage_features_lesioned,2)]\n",
        "  mask = generate_mask(output_map_shape, mask_units)\n",
        "  mask = mask.to(device)\n",
        "\n",
        "  with FeatureEditor(model_1, [layer_name], [mask], return_features=False) as editor:\n",
        "      top1, top5, loss = validate(editor, val_loader)\n",
        "\n",
        "  top1s[i] = top1\n",
        "  top5s[i] = top5\n",
        "  losses[i] = loss\n",
        "\n",
        "random_pretrained_alexnet_classifier1_accuracies = {}\n",
        "random_pretrained_alexnet_classifier1_accuracies[\"top1s\"] = top1s\n",
        "random_pretrained_alexnet_classifier1_accuracies[\"top5s\"] = top5s\n",
        "random_pretrained_alexnet_classifier1_accuracies[\"losses\"] = losses\n",
        "\n",
        "dict_save(random_pretrained_alexnet_classifier1_accuracies, region+\"_random_pretrained_alexnet_classifier1_accuracies\")\n",
        "#downloads to downloads\n",
        "files.download(region+\"_random_pretrained_alexnet_classifier1_accuracies.pickle\")\n",
        "'''"
      ],
      "metadata": {
        "id": "jzy4T3u6nrYu"
      },
      "execution_count": null,
      "outputs": []
    },
    {
      "cell_type": "code",
      "source": [
        "'''\n",
        "#model_2 - alexnetgn 1x\n",
        "layer_name = 'fc6.0'\n",
        "\n",
        "#what the scores are going to be stored in\n",
        "top1s = np.zeros(percentages.size)\n",
        "top5s = np.zeros(percentages.size)\n",
        "losses = np.zeros(percentages.size)\n",
        "\n",
        "#get output map shape\n",
        "with FeatureExtractor(model_2, [layer_name]) as extractor:\n",
        "  extractor.to(device)\n",
        "  dummy_images = torch.rand(10,3,224,224)\n",
        "  dummy_images = dummy_images.to(device)\n",
        "  output = extractor(dummy_images)\n",
        "  with torch.no_grad():\n",
        "    features = output[layer_name]\n",
        "output_map_shape = features.shape[1:]\n",
        "\n",
        "\n",
        "brain_regions_dict = {}\n",
        "brain_regions_dict['EarlyV'] = EarlyV_alexnetgn_1x_fc6_0_feature_idxs\n",
        "brain_regions_dict['pOTC'] = pOTC_alexnetgn_1x_fc6_0_feature_idxs\n",
        "brain_regions_dict['aOTC'] = aOTC_alexnetgn_1x_fc6_0_feature_idxs\n",
        "\n",
        "for region in brain_regions_dict.keys():\n",
        "  mask_units_dict = brain_regions_dict[region]\n",
        "\n",
        "  for i in range(percentages.size):\n",
        "    #make mask for features\n",
        "    percentage_features_lesioned = percentages[i]\n",
        "    mask_units = mask_units_dict[round(percentage_features_lesioned,2)]\n",
        "    mask = generate_mask(output_map_shape, mask_units)\n",
        "    mask = mask.to(device)\n",
        "\n",
        "    with FeatureEditor(model_2, [layer_name], [mask], return_features=False) as editor:\n",
        "      top1, top5, loss = validate(editor, val_loader)\n",
        "  \n",
        "    #appends accuracies and losses to list\n",
        "    top1s[i] = top1\n",
        "    top5s[i] = top5\n",
        "    losses[i] = loss\n",
        "\n",
        "  #making and saving dicts\n",
        "  alexnetgn_1x_fc6_0_accuracies = {}\n",
        "\n",
        "  alexnetgn_1x_fc6_0_accuracies[\"top1s\"] = top1s\n",
        "  alexnetgn_1x_fc6_0_accuracies[\"top5s\"] = top5s\n",
        "  alexnetgn_1x_fc6_0_accuracies[\"losses\"] = losses\n",
        "\n",
        "  dict_save(alexnetgn_1x_fc6_0_accuracies, region+\"_alexnetgn_1x_fc6_0_accuracies\")\n",
        "  #downloads to downloads\n",
        "  files.download(region+\"_alexnetgn_1x_fc6_0_accuracies.pickle\")\n",
        "'''"
      ],
      "metadata": {
        "id": "lIYzDnFGZTAj"
      },
      "execution_count": null,
      "outputs": []
    },
    {
      "cell_type": "code",
      "source": [
        "'''\n",
        "#model_2 - alexnetgn 1x - random\n",
        "layer_name = 'fc6.0'\n",
        "\n",
        "#what the scores are going to be stored in\n",
        "top1s = np.zeros(percentages.size)\n",
        "top5s = np.zeros(percentages.size)\n",
        "losses = np.zeros(percentages.size)\n",
        "\n",
        "#get output map shape\n",
        "with FeatureExtractor(model_2, [layer_name]) as extractor:\n",
        "  extractor.to(device)\n",
        "  dummy_images = torch.rand(10,3,224,224)\n",
        "  dummy_images = dummy_images.to(device)\n",
        "  output = extractor(dummy_images)\n",
        "  with torch.no_grad():\n",
        "    features = output[layer_name]\n",
        "output_map_shape = features.shape[1:]\n",
        "\n",
        "mask_units_dict = random_feature_idxs\n",
        "\n",
        "for i in range(percentages.size):\n",
        "  #make mask for features\n",
        "  percentage_features_lesioned = percentages[i]\n",
        "  mask_units = mask_units_dict[round(percentage_features_lesioned,2)]\n",
        "  mask = generate_mask(output_map_shape, mask_units)\n",
        "  mask = mask.to(device)\n",
        "\n",
        "  with FeatureEditor(model_2, [layer_name], [mask], return_features=False) as editor:\n",
        "      top1, top5, loss = validate(editor, val_loader)\n",
        "\n",
        "  top1s[i] = top1\n",
        "  top5s[i] = top5\n",
        "  losses[i] = loss\n",
        "alexnetgn_1x_fc6_0_accuracies\n",
        "random_alexnetgn_1x_fc6_0_accuracies = {}\n",
        "random_alexnetgn_1x_fc6_0_accuracies[\"top1s\"] = top1s\n",
        "random_alexnetgn_1x_fc6_0_accuracies[\"top5s\"] = top5s\n",
        "random_alexnetgn_1x_fc6_0_accuracies[\"losses\"] = losses\n",
        "\n",
        "dict_save(random_alexnetgn_1x_fc6_0_accuracies, region+\"_random_alexnetgn_1x_fc6_0_accuracies\")\n",
        "#downloads to downloads\n",
        "files.download(region+\"_random_alexnetgn_1x_fc6_0_accuracies.pickle\")\n",
        "'''"
      ],
      "metadata": {
        "id": "6myMDgiTos4T"
      },
      "execution_count": null,
      "outputs": []
    }
  ]
}